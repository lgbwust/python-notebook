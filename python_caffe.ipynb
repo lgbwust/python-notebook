{
 "cells": [
  {
   "cell_type": "code",
   "execution_count": 1,
   "metadata": {
    "collapsed": true
   },
   "outputs": [],
   "source": [
    "import numpy as np\n",
    "import matplotlib.pyplot as plt\n",
    "import sys\n",
    "import caffe\n",
    "from pylab import *\n",
    "plt.rcParams['figure.figsize']=(10,10)\n",
    "plt.rcParams['image.interpolation']='nearest'\n",
    "plt.rcParams['image.cmap']='gray'"
   ]
  },
  {
   "cell_type": "code",
   "execution_count": 2,
   "metadata": {
    "collapsed": false
   },
   "outputs": [],
   "source": [
    "caffe.set_mode_cpu()\n",
    "net=caffe.Net('D:\\CaffeNet\\caffe\\deploy.prototxt','D:\\CaffeNet\\caffe\\cifar_48.caffemodel',caffe.TEST)"
   ]
  },
  {
   "cell_type": "code",
   "execution_count": 3,
   "metadata": {
    "collapsed": false
   },
   "outputs": [],
   "source": [
    "transformer=caffe.io.Transformer({'data':net.blobs['data'].data.shape})\n",
    "transformer.set_transpose('data',(2,0,1))\n",
    "transformer.set_mean('data',np.load('D:\\CaffeNet\\ilsvrc_2012_mean.npy').mean(1).mean(1))\n",
    "transformer.set_raw_scale('data',255)\n",
    "transformer.set_channel_swap('data',(2,1,0))"
   ]
  },
  {
   "cell_type": "code",
   "execution_count": 4,
   "metadata": {
    "collapsed": false
   },
   "outputs": [
    {
     "ename": "KeyError",
     "evalue": "'prob'",
     "output_type": "error",
     "traceback": [
      "\u001b[1;31m---------------------------------------------------------------------------\u001b[0m",
      "\u001b[1;31mKeyError\u001b[0m                                  Traceback (most recent call last)",
      "\u001b[1;32m<ipython-input-4-6bc44a6dfef9>\u001b[0m in \u001b[0;36m<module>\u001b[1;34m()\u001b[0m\n\u001b[0;32m      1\u001b[0m \u001b[0mnet\u001b[0m\u001b[1;33m.\u001b[0m\u001b[0mblobs\u001b[0m\u001b[1;33m[\u001b[0m\u001b[1;34m'data'\u001b[0m\u001b[1;33m]\u001b[0m\u001b[1;33m.\u001b[0m\u001b[0mdata\u001b[0m\u001b[1;33m[\u001b[0m\u001b[1;33m.\u001b[0m\u001b[1;33m.\u001b[0m\u001b[1;33m.\u001b[0m\u001b[1;33m]\u001b[0m\u001b[1;33m=\u001b[0m\u001b[0mtransformer\u001b[0m\u001b[1;33m.\u001b[0m\u001b[0mpreprocess\u001b[0m\u001b[1;33m(\u001b[0m\u001b[1;34m'data'\u001b[0m\u001b[1;33m,\u001b[0m\u001b[0mcaffe\u001b[0m\u001b[1;33m.\u001b[0m\u001b[0mio\u001b[0m\u001b[1;33m.\u001b[0m\u001b[0mload_image\u001b[0m\u001b[1;33m(\u001b[0m\u001b[1;34m'D:\\CaffeNet\\images\\cat.jpg'\u001b[0m\u001b[1;33m)\u001b[0m\u001b[1;33m)\u001b[0m\u001b[1;33m\u001b[0m\u001b[0m\n\u001b[0;32m      2\u001b[0m \u001b[0mout\u001b[0m\u001b[1;33m=\u001b[0m\u001b[0mnet\u001b[0m\u001b[1;33m.\u001b[0m\u001b[0mforward\u001b[0m\u001b[1;33m(\u001b[0m\u001b[1;33m)\u001b[0m\u001b[1;33m\u001b[0m\u001b[0m\n\u001b[1;32m----> 3\u001b[1;33m \u001b[1;32mprint\u001b[0m\u001b[1;33m(\u001b[0m\u001b[1;34m\"Predicted class is #{}.\"\u001b[0m\u001b[1;33m.\u001b[0m\u001b[0mformat\u001b[0m\u001b[1;33m(\u001b[0m\u001b[0mout\u001b[0m\u001b[1;33m[\u001b[0m\u001b[1;34m'prob'\u001b[0m\u001b[1;33m]\u001b[0m\u001b[1;33m.\u001b[0m\u001b[0margmax\u001b[0m\u001b[1;33m(\u001b[0m\u001b[1;33m)\u001b[0m\u001b[1;33m)\u001b[0m\u001b[1;33m)\u001b[0m\u001b[1;33m\u001b[0m\u001b[0m\n\u001b[0m",
      "\u001b[1;31mKeyError\u001b[0m: 'prob'"
     ]
    }
   ],
   "source": [
    "net.blobs['data'].data[...]=transformer.preprocess('data',caffe.io.load_image('D:\\CaffeNet\\images\\cat.jpg'))\n",
    "out=net.forward()\n",
    "print(\"Predicted class is #{}.\".format(out['prob'].argmax()))"
   ]
  },
  {
   "cell_type": "code",
   "execution_count": 5,
   "metadata": {
    "collapsed": false
   },
   "outputs": [],
   "source": [
    "plt.imshow(transformer.deprocess('data',net.blobs['data'].data[0]))\n",
    "plt.show()"
   ]
  },
  {
   "cell_type": "code",
   "execution_count": 21,
   "metadata": {
    "collapsed": false
   },
   "outputs": [
    {
     "name": "stdout",
     "output_type": "stream",
     "text": [
      "['n04461696 tow truck, tow car, wrecker'\n",
      " 'n04467665 trailer truck, tractor trailer, trucking rig, rig, articulated lorry, semi'\n",
      " 'n04065272 recreational vehicle, RV, R.V.'\n",
      " 'n04252225 snowplow, snowplough' 'n04252077 snowmobile']\n"
     ]
    }
   ],
   "source": [
    "imagenet_labels_filename='D:\\CaffeNet\\synset_words.txt'\n",
    "try:\n",
    "    labels=np.loadtxt(imagenet_labels_filename,str,delimiter='\\t')\n",
    "except:\n",
    "    labels=np.loadtxt(imagenet_labels_filename,str,delimiter='\\t')\n",
    "top_k=net.blobs['prob'].data[0].flatten().argsort()[-1:-6:-1]\n",
    "print labels[top_k]"
   ]
  },
  {
   "cell_type": "code",
   "execution_count": 9,
   "metadata": {
    "collapsed": false
   },
   "outputs": [
    {
     "data": {
      "text/plain": [
       "{'fc8_kevin_encode': array([[  9.99952376e-01,   3.15452665e-01,   2.58057564e-01,\n",
       "           8.85128260e-01,   2.67958850e-01,   9.98764932e-01,\n",
       "           5.89062631e-01,   2.76432991e-01,   3.22964421e-04,\n",
       "           9.99344468e-01,   2.70132899e-01,   2.21212864e-01,\n",
       "           9.93147910e-01,   2.32841820e-01,   2.01567069e-01,\n",
       "           6.67330444e-01,   7.56207630e-02,   9.38837469e-01,\n",
       "           1.32468967e-02,   9.25138831e-01,   1.08206943e-01,\n",
       "           3.98103222e-02,   6.32906109e-02,   3.75769855e-06,\n",
       "           3.53849168e-06,   6.29283488e-03,   9.76623237e-01,\n",
       "           7.67149329e-02,   9.97754335e-01,   9.83976424e-01,\n",
       "           9.99860585e-01,   1.00216847e-02,   9.06890929e-01,\n",
       "           1.70457326e-02,   8.68340861e-03,   4.82886210e-02,\n",
       "           4.59896633e-03,   9.93868291e-01,   9.99455333e-01,\n",
       "           9.95941460e-01,   9.99359667e-01,   9.59710896e-01,\n",
       "           2.93468740e-02,   7.43153170e-02,   9.99132216e-01,\n",
       "           7.29824305e-02,   9.72345293e-01,   2.05289200e-02],\n",
       "        [  9.99952376e-01,   3.15452665e-01,   2.58057564e-01,\n",
       "           8.85128260e-01,   2.67958850e-01,   9.98764932e-01,\n",
       "           5.89062631e-01,   2.76432991e-01,   3.22964421e-04,\n",
       "           9.99344468e-01,   2.70132899e-01,   2.21212864e-01,\n",
       "           9.93147910e-01,   2.32841820e-01,   2.01567069e-01,\n",
       "           6.67330444e-01,   7.56207630e-02,   9.38837469e-01,\n",
       "           1.32468967e-02,   9.25138831e-01,   1.08206943e-01,\n",
       "           3.98103222e-02,   6.32906109e-02,   3.75769855e-06,\n",
       "           3.53849168e-06,   6.29283488e-03,   9.76623237e-01,\n",
       "           7.67149329e-02,   9.97754335e-01,   9.83976424e-01,\n",
       "           9.99860585e-01,   1.00216847e-02,   9.06890929e-01,\n",
       "           1.70457326e-02,   8.68340861e-03,   4.82886210e-02,\n",
       "           4.59896633e-03,   9.93868291e-01,   9.99455333e-01,\n",
       "           9.95941460e-01,   9.99359667e-01,   9.59710896e-01,\n",
       "           2.93468740e-02,   7.43153170e-02,   9.99132216e-01,\n",
       "           7.29824305e-02,   9.72345293e-01,   2.05289200e-02],\n",
       "        [  9.99952376e-01,   3.15452665e-01,   2.58057564e-01,\n",
       "           8.85128260e-01,   2.67958850e-01,   9.98764932e-01,\n",
       "           5.89062631e-01,   2.76432991e-01,   3.22964421e-04,\n",
       "           9.99344468e-01,   2.70132899e-01,   2.21212864e-01,\n",
       "           9.93147910e-01,   2.32841820e-01,   2.01567069e-01,\n",
       "           6.67330444e-01,   7.56207630e-02,   9.38837469e-01,\n",
       "           1.32468967e-02,   9.25138831e-01,   1.08206943e-01,\n",
       "           3.98103222e-02,   6.32906109e-02,   3.75769855e-06,\n",
       "           3.53849168e-06,   6.29283488e-03,   9.76623237e-01,\n",
       "           7.67149329e-02,   9.97754335e-01,   9.83976424e-01,\n",
       "           9.99860585e-01,   1.00216847e-02,   9.06890929e-01,\n",
       "           1.70457326e-02,   8.68340861e-03,   4.82886210e-02,\n",
       "           4.59896633e-03,   9.93868291e-01,   9.99455333e-01,\n",
       "           9.95941460e-01,   9.99359667e-01,   9.59710896e-01,\n",
       "           2.93468740e-02,   7.43153170e-02,   9.99132216e-01,\n",
       "           7.29824305e-02,   9.72345293e-01,   2.05289200e-02],\n",
       "        [  9.99952376e-01,   3.15452665e-01,   2.58057564e-01,\n",
       "           8.85128260e-01,   2.67958850e-01,   9.98764932e-01,\n",
       "           5.89062631e-01,   2.76432991e-01,   3.22964421e-04,\n",
       "           9.99344468e-01,   2.70132899e-01,   2.21212864e-01,\n",
       "           9.93147910e-01,   2.32841820e-01,   2.01567069e-01,\n",
       "           6.67330444e-01,   7.56207630e-02,   9.38837469e-01,\n",
       "           1.32468967e-02,   9.25138831e-01,   1.08206943e-01,\n",
       "           3.98103222e-02,   6.32906109e-02,   3.75769855e-06,\n",
       "           3.53849168e-06,   6.29283488e-03,   9.76623237e-01,\n",
       "           7.67149329e-02,   9.97754335e-01,   9.83976424e-01,\n",
       "           9.99860585e-01,   1.00216847e-02,   9.06890929e-01,\n",
       "           1.70457326e-02,   8.68340861e-03,   4.82886210e-02,\n",
       "           4.59896633e-03,   9.93868291e-01,   9.99455333e-01,\n",
       "           9.95941460e-01,   9.99359667e-01,   9.59710896e-01,\n",
       "           2.93468740e-02,   7.43153170e-02,   9.99132216e-01,\n",
       "           7.29824305e-02,   9.72345293e-01,   2.05289200e-02],\n",
       "        [  9.99952376e-01,   3.15452665e-01,   2.58057564e-01,\n",
       "           8.85128260e-01,   2.67958850e-01,   9.98764932e-01,\n",
       "           5.89062631e-01,   2.76432991e-01,   3.22964421e-04,\n",
       "           9.99344468e-01,   2.70132899e-01,   2.21212864e-01,\n",
       "           9.93147910e-01,   2.32841820e-01,   2.01567069e-01,\n",
       "           6.67330444e-01,   7.56207630e-02,   9.38837469e-01,\n",
       "           1.32468967e-02,   9.25138831e-01,   1.08206943e-01,\n",
       "           3.98103222e-02,   6.32906109e-02,   3.75769855e-06,\n",
       "           3.53849168e-06,   6.29283488e-03,   9.76623237e-01,\n",
       "           7.67149329e-02,   9.97754335e-01,   9.83976424e-01,\n",
       "           9.99860585e-01,   1.00216847e-02,   9.06890929e-01,\n",
       "           1.70457326e-02,   8.68340861e-03,   4.82886210e-02,\n",
       "           4.59896633e-03,   9.93868291e-01,   9.99455333e-01,\n",
       "           9.95941460e-01,   9.99359667e-01,   9.59710896e-01,\n",
       "           2.93468740e-02,   7.43153170e-02,   9.99132216e-01,\n",
       "           7.29824305e-02,   9.72345293e-01,   2.05289200e-02],\n",
       "        [  9.99952376e-01,   3.15452665e-01,   2.58057564e-01,\n",
       "           8.85128260e-01,   2.67958850e-01,   9.98764932e-01,\n",
       "           5.89062631e-01,   2.76432991e-01,   3.22964421e-04,\n",
       "           9.99344468e-01,   2.70132899e-01,   2.21212864e-01,\n",
       "           9.93147910e-01,   2.32841820e-01,   2.01567069e-01,\n",
       "           6.67330444e-01,   7.56207630e-02,   9.38837469e-01,\n",
       "           1.32468967e-02,   9.25138831e-01,   1.08206943e-01,\n",
       "           3.98103222e-02,   6.32906109e-02,   3.75769855e-06,\n",
       "           3.53849168e-06,   6.29283488e-03,   9.76623237e-01,\n",
       "           7.67149329e-02,   9.97754335e-01,   9.83976424e-01,\n",
       "           9.99860585e-01,   1.00216847e-02,   9.06890929e-01,\n",
       "           1.70457326e-02,   8.68340861e-03,   4.82886210e-02,\n",
       "           4.59896633e-03,   9.93868291e-01,   9.99455333e-01,\n",
       "           9.95941460e-01,   9.99359667e-01,   9.59710896e-01,\n",
       "           2.93468740e-02,   7.43153170e-02,   9.99132216e-01,\n",
       "           7.29824305e-02,   9.72345293e-01,   2.05289200e-02],\n",
       "        [  9.99952376e-01,   3.15452665e-01,   2.58057564e-01,\n",
       "           8.85128260e-01,   2.67958850e-01,   9.98764932e-01,\n",
       "           5.89062631e-01,   2.76432991e-01,   3.22964421e-04,\n",
       "           9.99344468e-01,   2.70132899e-01,   2.21212864e-01,\n",
       "           9.93147910e-01,   2.32841820e-01,   2.01567069e-01,\n",
       "           6.67330444e-01,   7.56207630e-02,   9.38837469e-01,\n",
       "           1.32468967e-02,   9.25138831e-01,   1.08206943e-01,\n",
       "           3.98103222e-02,   6.32906109e-02,   3.75769855e-06,\n",
       "           3.53849168e-06,   6.29283488e-03,   9.76623237e-01,\n",
       "           7.67149329e-02,   9.97754335e-01,   9.83976424e-01,\n",
       "           9.99860585e-01,   1.00216847e-02,   9.06890929e-01,\n",
       "           1.70457326e-02,   8.68340861e-03,   4.82886210e-02,\n",
       "           4.59896633e-03,   9.93868291e-01,   9.99455333e-01,\n",
       "           9.95941460e-01,   9.99359667e-01,   9.59710896e-01,\n",
       "           2.93468740e-02,   7.43153170e-02,   9.99132216e-01,\n",
       "           7.29824305e-02,   9.72345293e-01,   2.05289200e-02],\n",
       "        [  9.99952376e-01,   3.15452665e-01,   2.58057564e-01,\n",
       "           8.85128260e-01,   2.67958850e-01,   9.98764932e-01,\n",
       "           5.89062631e-01,   2.76432991e-01,   3.22964421e-04,\n",
       "           9.99344468e-01,   2.70132899e-01,   2.21212864e-01,\n",
       "           9.93147910e-01,   2.32841820e-01,   2.01567069e-01,\n",
       "           6.67330444e-01,   7.56207630e-02,   9.38837469e-01,\n",
       "           1.32468967e-02,   9.25138831e-01,   1.08206943e-01,\n",
       "           3.98103222e-02,   6.32906109e-02,   3.75769855e-06,\n",
       "           3.53849168e-06,   6.29283488e-03,   9.76623237e-01,\n",
       "           7.67149329e-02,   9.97754335e-01,   9.83976424e-01,\n",
       "           9.99860585e-01,   1.00216847e-02,   9.06890929e-01,\n",
       "           1.70457326e-02,   8.68340861e-03,   4.82886210e-02,\n",
       "           4.59896633e-03,   9.93868291e-01,   9.99455333e-01,\n",
       "           9.95941460e-01,   9.99359667e-01,   9.59710896e-01,\n",
       "           2.93468740e-02,   7.43153170e-02,   9.99132216e-01,\n",
       "           7.29824305e-02,   9.72345293e-01,   2.05289200e-02],\n",
       "        [  9.99952376e-01,   3.15452665e-01,   2.58057564e-01,\n",
       "           8.85128260e-01,   2.67958850e-01,   9.98764932e-01,\n",
       "           5.89062631e-01,   2.76432991e-01,   3.22964421e-04,\n",
       "           9.99344468e-01,   2.70132899e-01,   2.21212864e-01,\n",
       "           9.93147910e-01,   2.32841820e-01,   2.01567069e-01,\n",
       "           6.67330444e-01,   7.56207630e-02,   9.38837469e-01,\n",
       "           1.32468967e-02,   9.25138831e-01,   1.08206943e-01,\n",
       "           3.98103222e-02,   6.32906109e-02,   3.75769855e-06,\n",
       "           3.53849168e-06,   6.29283488e-03,   9.76623237e-01,\n",
       "           7.67149329e-02,   9.97754335e-01,   9.83976424e-01,\n",
       "           9.99860585e-01,   1.00216847e-02,   9.06890929e-01,\n",
       "           1.70457326e-02,   8.68340861e-03,   4.82886210e-02,\n",
       "           4.59896633e-03,   9.93868291e-01,   9.99455333e-01,\n",
       "           9.95941460e-01,   9.99359667e-01,   9.59710896e-01,\n",
       "           2.93468740e-02,   7.43153170e-02,   9.99132216e-01,\n",
       "           7.29824305e-02,   9.72345293e-01,   2.05289200e-02],\n",
       "        [  9.99952376e-01,   3.15452665e-01,   2.58057564e-01,\n",
       "           8.85128260e-01,   2.67958850e-01,   9.98764932e-01,\n",
       "           5.89062631e-01,   2.76432991e-01,   3.22964421e-04,\n",
       "           9.99344468e-01,   2.70132899e-01,   2.21212864e-01,\n",
       "           9.93147910e-01,   2.32841820e-01,   2.01567069e-01,\n",
       "           6.67330444e-01,   7.56207630e-02,   9.38837469e-01,\n",
       "           1.32468967e-02,   9.25138831e-01,   1.08206943e-01,\n",
       "           3.98103222e-02,   6.32906109e-02,   3.75769855e-06,\n",
       "           3.53849168e-06,   6.29283488e-03,   9.76623237e-01,\n",
       "           7.67149329e-02,   9.97754335e-01,   9.83976424e-01,\n",
       "           9.99860585e-01,   1.00216847e-02,   9.06890929e-01,\n",
       "           1.70457326e-02,   8.68340861e-03,   4.82886210e-02,\n",
       "           4.59896633e-03,   9.93868291e-01,   9.99455333e-01,\n",
       "           9.95941460e-01,   9.99359667e-01,   9.59710896e-01,\n",
       "           2.93468740e-02,   7.43153170e-02,   9.99132216e-01,\n",
       "           7.29824305e-02,   9.72345293e-01,   2.05289200e-02]], dtype=float32)}"
      ]
     },
     "execution_count": 9,
     "metadata": {},
     "output_type": "execute_result"
    }
   ],
   "source": [
    "net.forward()"
   ]
  },
  {
   "cell_type": "code",
   "execution_count": 10,
   "metadata": {
    "collapsed": false
   },
   "outputs": [
    {
     "data": {
      "text/plain": [
       "[('data', (10L, 3L, 227L, 227L)),\n",
       " ('conv1', (10L, 96L, 55L, 55L)),\n",
       " ('pool1', (10L, 96L, 27L, 27L)),\n",
       " ('norm1', (10L, 96L, 27L, 27L)),\n",
       " ('conv2', (10L, 256L, 27L, 27L)),\n",
       " ('pool2', (10L, 256L, 13L, 13L)),\n",
       " ('norm2', (10L, 256L, 13L, 13L)),\n",
       " ('conv3', (10L, 384L, 13L, 13L)),\n",
       " ('conv4', (10L, 384L, 13L, 13L)),\n",
       " ('conv5', (10L, 256L, 13L, 13L)),\n",
       " ('pool5', (10L, 256L, 6L, 6L)),\n",
       " ('fc6', (10L, 4096L)),\n",
       " ('fc7', (10L, 4096L)),\n",
       " ('fc8_kevin', (10L, 48L)),\n",
       " ('fc8_kevin_encode', (10L, 48L))]"
      ]
     },
     "execution_count": 10,
     "metadata": {},
     "output_type": "execute_result"
    }
   ],
   "source": [
    "[(k, v.data.shape) for k, v in net.blobs.items()]"
   ]
  },
  {
   "cell_type": "code",
   "execution_count": 11,
   "metadata": {
    "collapsed": false
   },
   "outputs": [
    {
     "data": {
      "text/plain": [
       "[('conv1', (96L, 3L, 11L, 11L)),\n",
       " ('conv2', (256L, 48L, 5L, 5L)),\n",
       " ('conv3', (384L, 256L, 3L, 3L)),\n",
       " ('conv4', (384L, 192L, 3L, 3L)),\n",
       " ('conv5', (256L, 192L, 3L, 3L)),\n",
       " ('fc6', (4096L, 9216L)),\n",
       " ('fc7', (4096L, 4096L)),\n",
       " ('fc8_kevin', (48L, 4096L))]"
      ]
     },
     "execution_count": 11,
     "metadata": {},
     "output_type": "execute_result"
    }
   ],
   "source": [
    "[(k, v[0].data.shape) for k, v in net.params.items()]"
   ]
  },
  {
   "cell_type": "code",
   "execution_count": 6,
   "metadata": {
    "collapsed": true
   },
   "outputs": [],
   "source": [
    "# take an array of shape (n, height, width) or (n, height, width, channels)\n",
    "# and visualize each (height, width) thing in a grid of size approx. sqrt(n) by sqrt(n)\n",
    "def vis_square(data, padsize=1, padval=0):\n",
    "    data -= data.min()\n",
    "    data /= data.max()\n",
    "    \n",
    "    # force the number of filters to be square\n",
    "    n = int(np.ceil(np.sqrt(data.shape[0])))\n",
    "    padding = ((0, n ** 2 - data.shape[0]), (0, padsize), (0, padsize)) + ((0, 0),) * (data.ndim - 3)\n",
    "    data = np.pad(data, padding, mode='constant', constant_values=(padval, padval))\n",
    "    \n",
    "    # tile the filters into an image\n",
    "    data = data.reshape((n, n) + data.shape[1:]).transpose((0, 2, 1, 3) + tuple(range(4, data.ndim + 1)))\n",
    "    data = data.reshape((n * data.shape[1], n * data.shape[3]) + data.shape[4:])\n",
    "    \n",
    "    plt.imshow(data)"
   ]
  },
  {
   "cell_type": "code",
   "execution_count": 7,
   "metadata": {
    "collapsed": true
   },
   "outputs": [],
   "source": [
    "# the parameters are a list of [weights, biases]\n",
    "filters = net.params['conv1'][0].data\n",
    "vis_square(filters.transpose(0, 2, 3, 1))"
   ]
  },
  {
   "cell_type": "code",
   "execution_count": 21,
   "metadata": {
    "collapsed": true
   },
   "outputs": [],
   "source": [
    "plt.show()"
   ]
  },
  {
   "cell_type": "code",
   "execution_count": 16,
   "metadata": {
    "collapsed": true
   },
   "outputs": [],
   "source": [
    "feat = net.blobs['conv1'].data[0, :36]\n",
    "vis_square(feat, padval=1)"
   ]
  },
  {
   "cell_type": "code",
   "execution_count": 11,
   "metadata": {
    "collapsed": true
   },
   "outputs": [],
   "source": [
    "filters = net.params['conv2'][0].data\n",
    "vis_square(filters[:48].reshape(48**2, 5, 5))"
   ]
  },
  {
   "cell_type": "code",
   "execution_count": 13,
   "metadata": {
    "collapsed": true
   },
   "outputs": [],
   "source": [
    "feat = net.blobs['conv2'].data[0, :36]\n",
    "vis_square(feat, padval=1)"
   ]
  },
  {
   "cell_type": "code",
   "execution_count": 34,
   "metadata": {
    "collapsed": true
   },
   "outputs": [],
   "source": [
    "feat = net.blobs['conv3'].data[0]\n",
    "vis_square(feat, padval=0.5)"
   ]
  },
  {
   "cell_type": "code",
   "execution_count": 36,
   "metadata": {
    "collapsed": true
   },
   "outputs": [],
   "source": [
    "feat = net.blobs['conv4'].data[0]\n",
    "vis_square(feat, padval=0.5)"
   ]
  },
  {
   "cell_type": "code",
   "execution_count": 37,
   "metadata": {
    "collapsed": true
   },
   "outputs": [],
   "source": [
    "feat = net.blobs['conv5'].data[0]\n",
    "vis_square(feat, padval=0.5)"
   ]
  },
  {
   "cell_type": "code",
   "execution_count": 15,
   "metadata": {
    "collapsed": true
   },
   "outputs": [],
   "source": [
    "feat = net.blobs['pool5'].data[0]\n",
    "vis_square(feat, padval=1)"
   ]
  },
  {
   "cell_type": "code",
   "execution_count": 17,
   "metadata": {
    "collapsed": true
   },
   "outputs": [],
   "source": [
    "feat = net.blobs['fc6'].data[0]\n",
    "plt.subplot(2, 1, 1)\n",
    "plt.plot(feat.flat)\n",
    "plt.subplot(2, 1, 2)\n",
    "_ = plt.hist(feat.flat[feat.flat > 0], bins=100)"
   ]
  },
  {
   "cell_type": "code",
   "execution_count": 20,
   "metadata": {
    "collapsed": true
   },
   "outputs": [],
   "source": [
    "feat = net.blobs['fc7'].data[0]\n",
    "plt.subplot(2, 1, 1)\n",
    "plt.plot(feat.flat)\n",
    "plt.subplot(2, 1, 2)\n",
    "_ = plt.hist(feat.flat[feat.flat > 0], bins=100)"
   ]
  },
  {
   "cell_type": "code",
   "execution_count": 22,
   "metadata": {
    "collapsed": false
   },
   "outputs": [
    {
     "ename": "KeyError",
     "evalue": "'prob'",
     "output_type": "error",
     "traceback": [
      "\u001b[1;31m---------------------------------------------------------------------------\u001b[0m",
      "\u001b[1;31mKeyError\u001b[0m                                  Traceback (most recent call last)",
      "\u001b[1;32m<ipython-input-22-be659db75c8a>\u001b[0m in \u001b[0;36m<module>\u001b[1;34m()\u001b[0m\n\u001b[1;32m----> 1\u001b[1;33m \u001b[0mfeat\u001b[0m \u001b[1;33m=\u001b[0m \u001b[0mnet\u001b[0m\u001b[1;33m.\u001b[0m\u001b[0mblobs\u001b[0m\u001b[1;33m[\u001b[0m\u001b[1;34m'prob'\u001b[0m\u001b[1;33m]\u001b[0m\u001b[1;33m.\u001b[0m\u001b[0mdata\u001b[0m\u001b[1;33m[\u001b[0m\u001b[1;36m0\u001b[0m\u001b[1;33m]\u001b[0m\u001b[1;33m\u001b[0m\u001b[0m\n\u001b[0m\u001b[0;32m      2\u001b[0m \u001b[0mplt\u001b[0m\u001b[1;33m.\u001b[0m\u001b[0mplot\u001b[0m\u001b[1;33m(\u001b[0m\u001b[0mfeat\u001b[0m\u001b[1;33m.\u001b[0m\u001b[0mflat\u001b[0m\u001b[1;33m)\u001b[0m\u001b[1;33m\u001b[0m\u001b[0m\n",
      "\u001b[1;31mKeyError\u001b[0m: 'prob'"
     ]
    }
   ],
   "source": [
    "feat = net.blobs['prob'].data[0]\n",
    "plt.plot(feat.flat)"
   ]
  },
  {
   "cell_type": "code",
   "execution_count": null,
   "metadata": {
    "collapsed": true
   },
   "outputs": [],
   "source": []
  }
 ],
 "metadata": {
  "kernelspec": {
   "display_name": "Python 2",
   "language": "python",
   "name": "python2"
  },
  "language_info": {
   "codemirror_mode": {
    "name": "ipython",
    "version": 2
   },
   "file_extension": ".py",
   "mimetype": "text/x-python",
   "name": "python",
   "nbconvert_exporter": "python",
   "pygments_lexer": "ipython2",
   "version": "2.7.8"
  }
 },
 "nbformat": 4,
 "nbformat_minor": 0
}
